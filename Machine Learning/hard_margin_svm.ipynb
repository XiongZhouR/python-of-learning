{
 "cells": [
  {
   "cell_type": "code",
   "execution_count": 83,
   "metadata": {},
   "outputs": [],
   "source": [
    "import numpy as np\n",
    "import pandas as pd\n",
    "import matplotlib.pyplot as plt"
   ]
  },
  {
   "cell_type": "code",
   "execution_count": 84,
   "metadata": {},
   "outputs": [
    {
     "data": {
      "image/png": "[encoded data removed]",
      "text/plain": [
       "<Figure size 432x288 with 1 Axes>"
      ]
     },
     "metadata": {
      "needs_background": "light"
     },
     "output_type": "display_data"
    }
   ],
   "source": [
    "#导入sklearn模拟二分类数据生成模块\n",
    "from sklearn.datasets._samples_generator import make_blobs\n",
    "#生成模拟二分类数据集\n",
    "X,y=make_blobs(n_samples=150,n_features=2,centers=2,cluster_std=1.2,random_state=40)\n",
    "#设置颜色参数\n",
    "colors={0:'r',1:'g'}\n",
    "#绘制二分类数据集的散点图\n",
    "plt.scatter(X[:,0],X[:,1],marker='o',c=pd.Series(y).map(colors))\n",
    "plt.show()"
   ]
  },
  {
   "cell_type": "code",
   "execution_count": 85,
   "metadata": {},
   "outputs": [],
   "source": [
    "# 将标签转换为1/-1\n",
    "y_ = y.copy()\n",
    "y_[y_ == 0] = -1\n",
    "y_ = y_.astype(float)\n"
   ]
  },
  {
   "cell_type": "code",
   "execution_count": 86,
   "metadata": {},
   "outputs": [
    {
     "name": "stdout",
     "output_type": "stream",
     "text": [
      "(105, 2) (105,) (45, 2) (45,)\n"
     ]
    }
   ],
   "source": [
    "from sklearn.model_selection import train_test_split\n",
    "X_train, X_test, y_train, y_test = train_test_split(\n",
    "    X, y_, test_size=0.3, random_state=43)\n",
    "print(X_train.shape, y_train.shape, X_test.shape, y_test.shape)\n"
   ]
  },
  {
   "cell_type": "code",
   "execution_count": 87,
   "metadata": {},
   "outputs": [],
   "source": [
    "from cvxopt import matrix, solvers\n"
   ]
  },
  {
   "cell_type": "code",
   "execution_count": 88,
   "metadata": {},
   "outputs": [
    {
     "name": "stdout",
     "output_type": "stream",
     "text": [
      "     pcost       dcost       gap    pres   dres\n",
      " 0:  1.0780e+02 -7.6366e+02  9e+02  1e-16  4e+01\n",
      " 1:  9.3245e+01  9.7637e+00  8e+01  1e-16  3e+00\n",
      " 2:  6.7311e+01  3.2553e+01  3e+01  6e-17  1e+00\n",
      " 3:  2.6071e+01  1.5068e+01  1e+01  2e-16  7e-01\n",
      " 4:  3.7092e+01  2.3152e+01  1e+01  2e-16  4e-01\n",
      " 5:  2.5352e+01  1.8652e+01  7e+00  8e-17  3e-16\n",
      " 6:  2.0062e+01  1.9974e+01  9e-02  6e-17  3e-16\n",
      " 7:  2.0001e+01  2.0000e+01  9e-04  6e-17  3e-16\n",
      " 8:  2.0000e+01  2.0000e+01  9e-06  9e-17  2e-16\n",
      "Optimal solution found.\n"
     ]
    }
   ],
   "source": [
    "# 定义二次规划参数\n",
    "P = matrix([[1.0, 0.0], [0.0, 0.0]])\n",
    "q = matrix([3.0, 4.0])\n",
    "G = matrix([[-1.0, 0.0, -1.0, 2.0, 3.0], [0.0, -1.0, -3.0, 5.0, 4.0]])\n",
    "h = matrix([0.0, 0.0, -15.0, 100.0, 80.0])\n",
    "\n",
    "# 构造求解\n",
    "sol = solvers.qp(P, q, G, h)"
   ]
  },
  {
   "cell_type": "code",
   "execution_count": 89,
   "metadata": {},
   "outputs": [
    {
     "name": "stdout",
     "output_type": "stream",
     "text": [
      "[ 7.13e-07]\n",
      "[ 5.00e+00]\n",
      " 20.00000617311241\n"
     ]
    }
   ],
   "source": [
    "#获取最优值\n",
    "print(sol['x'],sol['primal objective'])"
   ]
  },
  {
   "cell_type": "code",
   "execution_count": 90,
   "metadata": {},
   "outputs": [],
   "source": [
    "# 实现线性可分支持向量机\n",
    "# 硬间隔最大化策略\n",
    "class Hard_Margin_SVM:\n",
    "    # 线性可分支持向量机拟合方法\n",
    "    def fit(self, X, y):\n",
    "        # 训练样本数和特征数\n",
    "        m, n = X.shape\n",
    "\n",
    "        # 初始化二次规划相关变量：P/q/G/h\n",
    "        self.P = matrix(np.identity(n+1, dtype=np.float_))\n",
    "        self.q = matrix(np.zeros((n+1,), dtype=np.float))\n",
    "        self.G = matrix(np.zeros((m, n+1), dtype=np.float))\n",
    "        self.h = -matrix(np.ones((m,), dtype=np.float))\n",
    "\n",
    "        # 将数据转换为变量\n",
    "        self.P[0, 0] = 0\n",
    "        for i in range(m):\n",
    "            self.G[i, 0] = -y[i]\n",
    "            self.G[i, 1:] = -X[i, :]*y[i]\n",
    "\n",
    "        # 构建二次规划求解\n",
    "        sol = solvers.qp(self.P, self.q, self.G, self.h)\n",
    "\n",
    "        # 对权重和偏置寻优\n",
    "        self.w = np.zeros(n,)\n",
    "        self.b = sol['x'][0]\n",
    "        for i in range(1, n+1):\n",
    "            self.w[i-1] = sol['x'][i]\n",
    "        return self.w, self.b\n",
    "    # 定义模型预测函数\n",
    "\n",
    "    def predict(self, X):\n",
    "        return np.sign(np.dot(self.w, X.T)+self.b)\n"
   ]
  },
  {
   "cell_type": "code",
   "execution_count": 91,
   "metadata": {},
   "outputs": [
    {
     "name": "stdout",
     "output_type": "stream",
     "text": [
      "     pcost       dcost       gap    pres   dres\n",
      " 0:  2.1061e-02  2.0725e+01  3e+02  2e+00  8e+02\n",
      " 1:  1.7678e-01 -4.0311e+01  5e+01  3e-01  1e+02\n",
      " 2:  2.5467e-01 -1.3854e+00  2e+00  1e-02  4e+00\n",
      " 3:  2.1218e-01  4.0205e-02  2e-01  6e-04  2e-01\n",
      " 4:  1.8309e-01  1.5738e-01  3e-02  8e-05  4e-02\n",
      " 5:  1.8241e-01  1.8207e-01  3e-04  1e-06  4e-04\n",
      " 6:  1.8239e-01  1.8239e-01  3e-06  1e-08  4e-06\n",
      " 7:  1.8239e-01  1.8239e-01  3e-08  1e-10  4e-08\n",
      "Optimal solution found.\n"
     ]
    },
    {
     "name": "stderr",
     "output_type": "stream",
     "text": [
      "<ipython-input-90-6823cc8db65f>:11: DeprecationWarning: `np.float` is a deprecated alias for the builtin `float`. To silence this warning, use `float` by itself. Doing this will not modify any behavior and is safe. If you specifically wanted the numpy scalar type, use `np.float64` here.\n",
      "Deprecated in NumPy 1.20; for more details and guidance: https://numpy.org/devdocs/release/1.20.0-notes.html#deprecations\n",
      "  self.q = matrix(np.zeros((n+1,), dtype=np.float))\n",
      "<ipython-input-90-6823cc8db65f>:12: DeprecationWarning: `np.float` is a deprecated alias for the builtin `float`. To silence this warning, use `float` by itself. Doing this will not modify any behavior and is safe. If you specifically wanted the numpy scalar type, use `np.float64` here.\n",
      "Deprecated in NumPy 1.20; for more details and guidance: https://numpy.org/devdocs/release/1.20.0-notes.html#deprecations\n",
      "  self.G = matrix(np.zeros((m, n+1), dtype=np.float))\n",
      "<ipython-input-90-6823cc8db65f>:13: DeprecationWarning: `np.float` is a deprecated alias for the builtin `float`. To silence this warning, use `float` by itself. Doing this will not modify any behavior and is safe. If you specifically wanted the numpy scalar type, use `np.float64` here.\n",
      "Deprecated in NumPy 1.20; for more details and guidance: https://numpy.org/devdocs/release/1.20.0-notes.html#deprecations\n",
      "  self.h = -matrix(np.ones((m,), dtype=np.float))\n"
     ]
    },
    {
     "data": {
      "text/plain": [
       "(array([0.40882768, 0.44457681]), 1.831061328877261)"
      ]
     },
     "execution_count": 91,
     "metadata": {},
     "output_type": "execute_result"
    }
   ],
   "source": [
    "# 创建线性可分支持向量机模型实例\n",
    "hard_margin_svm = Hard_Margin_SVM()\n",
    "# 执行训练\n",
    "hard_margin_svm.fit(X_train, y_train)\n"
   ]
  },
  {
   "cell_type": "code",
   "execution_count": 94,
   "metadata": {},
   "outputs": [
    {
     "name": "stdout",
     "output_type": "stream",
     "text": [
      "1.0\n"
     ]
    }
   ],
   "source": [
    "# 模型预测\n",
    "y_pred = hard_margin_svm.predict(X_test)\n",
    "\n",
    "from sklearn.metrics import accuracy_score\n",
    "\n",
    "#计算测试集准确率 \n",
    "\n",
    "print(accuracy_score(y_test,y_pred))"
   ]
  },
  {
   "cell_type": "code",
   "execution_count": 97,
   "metadata": {},
   "outputs": [],
   "source": [
    "from matplotlib.colors import ListedColormap\n",
    "\n",
    "# 绘制线性可分支持向量机决策边界图\n",
    "\n",
    "\n",
    "def plot_classifer(model, X, y):\n",
    "    # 超参数边界\n",
    "    X_min = -7\n",
    "    X_max = 12\n",
    "    y_min = -12\n",
    "    y_max = -1\n",
    "    step = 0.05\n",
    "    # meshgrid\n",
    "\n",
    "    xx, yy = np.meshgrid(np.arange(X_min, X_max, step),\n",
    "                         np.arange(y_min, y_max, step))\n",
    "\n",
    "    # 模型预测\n",
    "    z = model.predict(np.c_[xx.ravel(), yy.ravel()])\n",
    "\n",
    "    # 定义colormap\n",
    "    cmap_light = ListedColormap(['#FFAAAA', '#AAFFAA'])\n",
    "    cmap_bold = ListedColormap(['#FF0000', '#003300'])\n",
    "    z = z.reshape(xx.shape)\n",
    "    plt.figure(figsize=(8, 5), dpi=96)\n",
    "    plt.pcolormesh(xx, yy, z, cmap=cmap_light)\n",
    "    plt.scatter(X[:, 0], X[:, 1], c=y, cmap=cmap_bold)\n",
    "    plt.show()\n"
   ]
  },
  {
   "cell_type": "code",
   "execution_count": 98,
   "metadata": {},
   "outputs": [
    {
     "name": "stderr",
     "output_type": "stream",
     "text": [
      "<ipython-input-97-44df9b55e7d0>:26: MatplotlibDeprecationWarning: shading='flat' when X and Y have the same dimensions as C is deprecated since 3.3.  Either specify the corners of the quadrilaterals with X and Y, or pass shading='auto', 'nearest' or 'gouraud', or set rcParams['pcolor.shading'].  This will become an error two minor releases later.\n",
      "  plt.pcolormesh(xx, yy, z, cmap=cmap_light)\n"
     ]
    },
    {
     "data": {
      "image/png": "[encoded data removed]",
      "text/plain": [
       "<Figure size 768x480 with 1 Axes>"
      ]
     },
     "metadata": {
      "needs_background": "light"
     },
     "output_type": "display_data"
    }
   ],
   "source": [
    "\n",
    "plot_classifer(hard_margin_svm, X_train, y_train)\n"
   ]
  },
  {
   "cell_type": "code",
   "execution_count": 99,
   "metadata": {},
   "outputs": [
    {
     "name": "stdout",
     "output_type": "stream",
     "text": [
      "1.0\n"
     ]
    }
   ],
   "source": [
    "# 导入sklearn线性SVM分类模块\n",
    "from sklearn.svm import LinearSVC\n",
    "# 创建模型实例\n",
    "clf = LinearSVC(random_state=0, tol=1e-5)\n",
    "# 训练\n",
    "clf.fit(X_train, y_train)\n",
    "# 预测\n",
    "y_pred = clf.predict(X_test)\n",
    "# 计算测试集准确率\n",
    "print(accuracy_score(y_test, y_pred))"
   ]
  }
 ],
 "metadata": {
  "interpreter": {
   "hash": "a8f61be024eba58adef938c9aa1e29e02cb3dece83a5348b1a2dafd16a070453"
  },
  "kernelspec": {
   "display_name": "Python 3.8.8 64-bit ('base': conda)",
   "name": "python3"
  },
  "language_info": {
   "codemirror_mode": {
    "name": "ipython",
    "version": 3
   },
   "file_extension": ".py",
   "mimetype": "text/x-python",
   "name": "python",
   "nbconvert_exporter": "python",
   "pygments_lexer": "ipython3",
   "version": "3.8.8"
  },
  "orig_nbformat": 4
 },
 "nbformat": 4,
 "nbformat_minor": 2
}
